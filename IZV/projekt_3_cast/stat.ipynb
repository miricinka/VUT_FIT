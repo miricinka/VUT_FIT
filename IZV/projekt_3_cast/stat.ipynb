{
 "cells": [
  {
   "source": [
    "# IZV Úkol 2: Test hypotézy\n",
    "## Autor: Mirka Kolaříková (xkolar76)\n",
    "\n",
    "Ověřit s 95% jistotou následující hypotézu pomocí $\\chi^2$ testu:\n",
    "- Pokud viník nehody byl pod silným vlivem alkoholu, došlo častěji k těžkým zdravotním\n",
    "následkům\n",
    "    "
   ],
   "cell_type": "markdown",
   "metadata": {}
  },
  {
   "source": [
    "Na začátku načteme potřebné knihovny *pandas* a *scipy*"
   ],
   "cell_type": "markdown",
   "metadata": {}
  },
  {
   "cell_type": "code",
   "execution_count": 37,
   "metadata": {},
   "outputs": [],
   "source": [
    "import pandas as pd\n",
    "import scipy.stats as st"
   ]
  },
  {
   "source": [
    "Načteme dataframe ze souboru *accidents.pkl.gz*"
   ],
   "cell_type": "markdown",
   "metadata": {}
  },
  {
   "cell_type": "code",
   "execution_count": 38,
   "metadata": {},
   "outputs": [
    {
     "output_type": "execute_result",
     "data": {
      "text/plain": [
       "                  p1 p36   p37         p2a weekday(p2a)   p2b p6  p7  p8  p9  \\\n",
       "0       002100160001   4        2016-01-01            5  0055  1   1   0   2   \n",
       "1       002100160002   4        2016-01-01            5  0130  1   3   0   2   \n",
       "2       002100160003   5        2016-01-01            5  0100  1   2   0   2   \n",
       "3       002100160004   6        2016-01-01            5  0120  9   0   0   2   \n",
       "4       002100160005   6        2016-01-01            5  2560  2   0   0   2   \n",
       "...              ...  ..   ...         ...          ...   ... ..  ..  ..  ..   \n",
       "487156  190906200498   6        2020-09-29            2  2560  2   0   0   2   \n",
       "487157  190906200499   0     6  2020-09-29            2  1940  1   2   0   2   \n",
       "487158  190906200500   3  2114  2020-09-30            3  2045  1   4   0   2   \n",
       "487159  190906200501   0     6  2020-10-01            4  0420  3   0   4   2   \n",
       "487160  190906200502   6        2020-10-01            4  2560  2   0   0   2   \n",
       "\n",
       "        ...     l        n  o                       p       q       r       s  \\\n",
       "0       ...         711403     Souhlasnýsesměremúseku  Pomalý  554782  451622   \n",
       "1       ...                                                                     \n",
       "2       ...                                                                     \n",
       "3       ...                                                                     \n",
       "4       ...                                                                     \n",
       "...     ...   ...      ... ..                     ...     ...     ...     ...   \n",
       "487156  ...        3438492     Souhlasnýsesměremúseku  Pomalý  560294           \n",
       "487157  ...    D6  1671277     Souhlasnýsesměremúseku  Pomalý  560286           \n",
       "487158  ...  2114  1669033         Opačnýkesměruúseku  Pomalý  554642           \n",
       "487159  ...    D6  3513947     Souhlasnýsesměremúseku  Pomalý  560294           \n",
       "487160  ...        3704381     Souhlasnýsesměremúseku  Pomalý  560383           \n",
       "\n",
       "                         t  p5a  region  \n",
       "0       GN_V0.1UIR-ADR_410    1     PHA  \n",
       "1                             1     PHA  \n",
       "2                             1     PHA  \n",
       "3                             1     PHA  \n",
       "4                             1     PHA  \n",
       "...                    ...  ...     ...  \n",
       "487156  GN_V0.1UIR-ADR_410    1     KVK  \n",
       "487157  GN_V0.1UIR-ADR_410    2     KVK  \n",
       "487158  GN_V0.1UIR-ADR_410    2     KVK  \n",
       "487159  GN_V0.1UIR-ADR_410    2     KVK  \n",
       "487160  GN_V0.1UIR-ADR_410    1     KVK  \n",
       "\n",
       "[487161 rows x 65 columns]"
      ],
      "text/html": "<div>\n<style scoped>\n    .dataframe tbody tr th:only-of-type {\n        vertical-align: middle;\n    }\n\n    .dataframe tbody tr th {\n        vertical-align: top;\n    }\n\n    .dataframe thead th {\n        text-align: right;\n    }\n</style>\n<table border=\"1\" class=\"dataframe\">\n  <thead>\n    <tr style=\"text-align: right;\">\n      <th></th>\n      <th>p1</th>\n      <th>p36</th>\n      <th>p37</th>\n      <th>p2a</th>\n      <th>weekday(p2a)</th>\n      <th>p2b</th>\n      <th>p6</th>\n      <th>p7</th>\n      <th>p8</th>\n      <th>p9</th>\n      <th>...</th>\n      <th>l</th>\n      <th>n</th>\n      <th>o</th>\n      <th>p</th>\n      <th>q</th>\n      <th>r</th>\n      <th>s</th>\n      <th>t</th>\n      <th>p5a</th>\n      <th>region</th>\n    </tr>\n  </thead>\n  <tbody>\n    <tr>\n      <th>0</th>\n      <td>002100160001</td>\n      <td>4</td>\n      <td></td>\n      <td>2016-01-01</td>\n      <td>5</td>\n      <td>0055</td>\n      <td>1</td>\n      <td>1</td>\n      <td>0</td>\n      <td>2</td>\n      <td>...</td>\n      <td></td>\n      <td>711403</td>\n      <td></td>\n      <td>Souhlasnýsesměremúseku</td>\n      <td>Pomalý</td>\n      <td>554782</td>\n      <td>451622</td>\n      <td>GN_V0.1UIR-ADR_410</td>\n      <td>1</td>\n      <td>PHA</td>\n    </tr>\n    <tr>\n      <th>1</th>\n      <td>002100160002</td>\n      <td>4</td>\n      <td></td>\n      <td>2016-01-01</td>\n      <td>5</td>\n      <td>0130</td>\n      <td>1</td>\n      <td>3</td>\n      <td>0</td>\n      <td>2</td>\n      <td>...</td>\n      <td></td>\n      <td></td>\n      <td></td>\n      <td></td>\n      <td></td>\n      <td></td>\n      <td></td>\n      <td></td>\n      <td>1</td>\n      <td>PHA</td>\n    </tr>\n    <tr>\n      <th>2</th>\n      <td>002100160003</td>\n      <td>5</td>\n      <td></td>\n      <td>2016-01-01</td>\n      <td>5</td>\n      <td>0100</td>\n      <td>1</td>\n      <td>2</td>\n      <td>0</td>\n      <td>2</td>\n      <td>...</td>\n      <td></td>\n      <td></td>\n      <td></td>\n      <td></td>\n      <td></td>\n      <td></td>\n      <td></td>\n      <td></td>\n      <td>1</td>\n      <td>PHA</td>\n    </tr>\n    <tr>\n      <th>3</th>\n      <td>002100160004</td>\n      <td>6</td>\n      <td></td>\n      <td>2016-01-01</td>\n      <td>5</td>\n      <td>0120</td>\n      <td>9</td>\n      <td>0</td>\n      <td>0</td>\n      <td>2</td>\n      <td>...</td>\n      <td></td>\n      <td></td>\n      <td></td>\n      <td></td>\n      <td></td>\n      <td></td>\n      <td></td>\n      <td></td>\n      <td>1</td>\n      <td>PHA</td>\n    </tr>\n    <tr>\n      <th>4</th>\n      <td>002100160005</td>\n      <td>6</td>\n      <td></td>\n      <td>2016-01-01</td>\n      <td>5</td>\n      <td>2560</td>\n      <td>2</td>\n      <td>0</td>\n      <td>0</td>\n      <td>2</td>\n      <td>...</td>\n      <td></td>\n      <td></td>\n      <td></td>\n      <td></td>\n      <td></td>\n      <td></td>\n      <td></td>\n      <td></td>\n      <td>1</td>\n      <td>PHA</td>\n    </tr>\n    <tr>\n      <th>...</th>\n      <td>...</td>\n      <td>...</td>\n      <td>...</td>\n      <td>...</td>\n      <td>...</td>\n      <td>...</td>\n      <td>...</td>\n      <td>...</td>\n      <td>...</td>\n      <td>...</td>\n      <td>...</td>\n      <td>...</td>\n      <td>...</td>\n      <td>...</td>\n      <td>...</td>\n      <td>...</td>\n      <td>...</td>\n      <td>...</td>\n      <td>...</td>\n      <td>...</td>\n      <td>...</td>\n    </tr>\n    <tr>\n      <th>487156</th>\n      <td>190906200498</td>\n      <td>6</td>\n      <td></td>\n      <td>2020-09-29</td>\n      <td>2</td>\n      <td>2560</td>\n      <td>2</td>\n      <td>0</td>\n      <td>0</td>\n      <td>2</td>\n      <td>...</td>\n      <td></td>\n      <td>3438492</td>\n      <td></td>\n      <td>Souhlasnýsesměremúseku</td>\n      <td>Pomalý</td>\n      <td>560294</td>\n      <td></td>\n      <td>GN_V0.1UIR-ADR_410</td>\n      <td>1</td>\n      <td>KVK</td>\n    </tr>\n    <tr>\n      <th>487157</th>\n      <td>190906200499</td>\n      <td>0</td>\n      <td>6</td>\n      <td>2020-09-29</td>\n      <td>2</td>\n      <td>1940</td>\n      <td>1</td>\n      <td>2</td>\n      <td>0</td>\n      <td>2</td>\n      <td>...</td>\n      <td>D6</td>\n      <td>1671277</td>\n      <td></td>\n      <td>Souhlasnýsesměremúseku</td>\n      <td>Pomalý</td>\n      <td>560286</td>\n      <td></td>\n      <td>GN_V0.1UIR-ADR_410</td>\n      <td>2</td>\n      <td>KVK</td>\n    </tr>\n    <tr>\n      <th>487158</th>\n      <td>190906200500</td>\n      <td>3</td>\n      <td>2114</td>\n      <td>2020-09-30</td>\n      <td>3</td>\n      <td>2045</td>\n      <td>1</td>\n      <td>4</td>\n      <td>0</td>\n      <td>2</td>\n      <td>...</td>\n      <td>2114</td>\n      <td>1669033</td>\n      <td></td>\n      <td>Opačnýkesměruúseku</td>\n      <td>Pomalý</td>\n      <td>554642</td>\n      <td></td>\n      <td>GN_V0.1UIR-ADR_410</td>\n      <td>2</td>\n      <td>KVK</td>\n    </tr>\n    <tr>\n      <th>487159</th>\n      <td>190906200501</td>\n      <td>0</td>\n      <td>6</td>\n      <td>2020-10-01</td>\n      <td>4</td>\n      <td>0420</td>\n      <td>3</td>\n      <td>0</td>\n      <td>4</td>\n      <td>2</td>\n      <td>...</td>\n      <td>D6</td>\n      <td>3513947</td>\n      <td></td>\n      <td>Souhlasnýsesměremúseku</td>\n      <td>Pomalý</td>\n      <td>560294</td>\n      <td></td>\n      <td>GN_V0.1UIR-ADR_410</td>\n      <td>2</td>\n      <td>KVK</td>\n    </tr>\n    <tr>\n      <th>487160</th>\n      <td>190906200502</td>\n      <td>6</td>\n      <td></td>\n      <td>2020-10-01</td>\n      <td>4</td>\n      <td>2560</td>\n      <td>2</td>\n      <td>0</td>\n      <td>0</td>\n      <td>2</td>\n      <td>...</td>\n      <td></td>\n      <td>3704381</td>\n      <td></td>\n      <td>Souhlasnýsesměremúseku</td>\n      <td>Pomalý</td>\n      <td>560383</td>\n      <td></td>\n      <td>GN_V0.1UIR-ADR_410</td>\n      <td>1</td>\n      <td>KVK</td>\n    </tr>\n  </tbody>\n</table>\n<p>487161 rows × 65 columns</p>\n</div>"
     },
     "metadata": {},
     "execution_count": 38
    }
   ],
   "source": [
    "df = pd.read_pickle(\"accidents.pkl.gz\")\n",
    "df"
   ]
  },
  {
   "source": [
    "Vyloučíme (z celého DataFrame) nehody pod vlivem drog (p11 == 4 nebo p11 == 5)"
   ],
   "cell_type": "markdown",
   "metadata": {}
  },
  {
   "cell_type": "code",
   "execution_count": 39,
   "metadata": {},
   "outputs": [],
   "source": [
    "df = df[df.p11 != 4]\n",
    "df = df[df.p11 != 5]"
   ]
  },
  {
   "source": [
    "Vytvoříme nový sloupec *strongAlcoholUse*, který bude True, pokud byl viník pod silným vlivem alkoholu (p11 >= 7). V opačném případě bude False. \n",
    "\n"
   ],
   "cell_type": "markdown",
   "metadata": {}
  },
  {
   "cell_type": "code",
   "execution_count": 40,
   "metadata": {},
   "outputs": [],
   "source": [
    "df['strongAlcoholUse'] = df['p11'] >= 7"
   ]
  },
  {
   "source": [
    "Vytvoříme nový sloupec *severeHealthCondition*, který bude True, pokud nastaly vážné zdravotní následky  (p13a\n",
    "\\+ p13b > 0). V opačném případě bude False. "
   ],
   "cell_type": "markdown",
   "metadata": {}
  },
  {
   "cell_type": "code",
   "execution_count": 41,
   "metadata": {},
   "outputs": [],
   "source": [
    "df['severeHealthCondition'] = df['p13a'] + df['p13b'] > 0"
   ]
  },
  {
   "source": [
    "Vytvoříme si kontingenční tabulku pomocí funkce *crosstab()* z knihovny *pandas*."
   ],
   "cell_type": "markdown",
   "metadata": {}
  },
  {
   "cell_type": "code",
   "execution_count": 42,
   "metadata": {},
   "outputs": [
    {
     "output_type": "execute_result",
     "data": {
      "text/plain": [
       "severeHealthCondition   False  True \n",
       "strongAlcoholUse                    \n",
       "False                  457528  10777\n",
       "True                    16492    886"
      ],
      "text/html": "<div>\n<style scoped>\n    .dataframe tbody tr th:only-of-type {\n        vertical-align: middle;\n    }\n\n    .dataframe tbody tr th {\n        vertical-align: top;\n    }\n\n    .dataframe thead th {\n        text-align: right;\n    }\n</style>\n<table border=\"1\" class=\"dataframe\">\n  <thead>\n    <tr style=\"text-align: right;\">\n      <th>severeHealthCondition</th>\n      <th>False</th>\n      <th>True</th>\n    </tr>\n    <tr>\n      <th>strongAlcoholUse</th>\n      <th></th>\n      <th></th>\n    </tr>\n  </thead>\n  <tbody>\n    <tr>\n      <th>False</th>\n      <td>457528</td>\n      <td>10777</td>\n    </tr>\n    <tr>\n      <th>True</th>\n      <td>16492</td>\n      <td>886</td>\n    </tr>\n  </tbody>\n</table>\n</div>"
     },
     "metadata": {},
     "execution_count": 42
    }
   ],
   "source": [
    "ct = pd.crosstab(df['strongAlcoholUse'], df['severeHealthCondition'])\n",
    "ct"
   ]
  },
  {
   "source": [
    "Pro tuto tabulku vypočítáme $\\chi^2$ test pomocí funkce chi2_contingency() z knihovny scipy. Tato funkce spočítá $\\chi^2$ statistiku a p-hodnotu pro test nezávislosti v kontingenční tabulce. Tato funkce vrací více hodnot (xi2, p-value, DF, E), nás zajímá druhá hodnota (p-hodnota)."
   ],
   "cell_type": "markdown",
   "metadata": {}
  },
  {
   "cell_type": "code",
   "execution_count": 48,
   "metadata": {},
   "outputs": [
    {
     "output_type": "execute_result",
     "data": {
      "text/plain": [
       "(558.1749514234125,\n",
       " 2.0971505700338304e-123,\n",
       " 1,\n",
       " array([[4.57059308e+05, 1.12456916e+04],\n",
       "        [1.69606916e+04, 4.17308438e+02]]))"
      ]
     },
     "metadata": {},
     "execution_count": 48
    }
   ],
   "source": [
    "st.chi2_contingency(ct)"
   ]
  },
  {
   "source": [
    "# Závěr\n",
    "Hodnota $2.09\\cdot10^{-123}$ je  menší než  $0.05$. Hypotézu jsme tedy ověřili. \n"
   ],
   "cell_type": "markdown",
   "metadata": {}
  }
 ],
 "metadata": {
  "kernelspec": {
   "name": "python3",
   "display_name": "Python 3.8.5 64-bit",
   "metadata": {
    "interpreter": {
     "hash": "aee8b7b246df8f9039afb4144a1f6fd8d2ca17a180786b69acc140d282b71a49"
    }
   }
  },
  "language_info": {
   "codemirror_mode": {
    "name": "ipython",
    "version": 3
   },
   "file_extension": ".py",
   "mimetype": "text/x-python",
   "name": "python",
   "nbconvert_exporter": "python",
   "pygments_lexer": "ipython3",
   "version": "3.8.5-final"
  }
 },
 "nbformat": 4,
 "nbformat_minor": 2
}